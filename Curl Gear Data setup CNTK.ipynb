{
 "cells": [
  {
   "cell_type": "code",
   "execution_count": 1,
   "metadata": {},
   "outputs": [
    {
     "name": "stdout",
     "output_type": "stream",
     "text": [
      "  % Total    % Received % Xferd  Average Speed   Time    Time     Time  Current\n",
      "                                 Dload  Upload   Total   Spent    Left  Speed\n",
      "100 33.4M  100 33.4M    0     0  9638k      0  0:00:03  0:00:03 --:--:-- 9641k\n"
     ]
    }
   ],
   "source": [
    "! curl -O https://challenge.blob.core.windows.net/challengefiles/gear_images.zip"
   ]
  },
  {
   "cell_type": "code",
   "execution_count": 8,
   "metadata": {},
   "outputs": [],
   "source": [
    "import zipfile\n",
    "with zipfile.ZipFile(\"gear_images.zip\",\"r\") as zip_ref:\n",
    "\n",
    "    zip_ref.extractall(\"gear_images_validation\")"
   ]
  },
  {
   "cell_type": "markdown",
   "metadata": {},
   "source": [
    "Let's get CUDA setup so we can use the GPU from the notebook. \n",
    "Follow these directions if you have a GPU but don't have the CUDA drivers: https://docs.microsoft.com/en-us/azure/virtual-machines/linux/n-series-driver-setup \n"
   ]
  },
  {
   "cell_type": "code",
   "execution_count": 1,
   "metadata": {},
   "outputs": [
    {
     "name": "stdout",
     "output_type": "stream",
     "text": [
      "1a10:00:00.0 3D controller: NVIDIA Corporation GK210GL [Tesla K80] (rev a1)\r\n"
     ]
    }
   ],
   "source": [
    "# Make sure you have a GPU \n",
    "! lspci | grep -i NVIDIA\n"
   ]
  },
  {
   "cell_type": "code",
   "execution_count": 2,
   "metadata": {},
   "outputs": [
    {
     "name": "stdout",
     "output_type": "stream",
     "text": [
      "Reading package lists... Done\n",
      "Building dependency tree       \n",
      "Reading state information... Done\n",
      "cuda-drivers is already the newest version (396.37-1).\n",
      "The following packages were automatically installed and are no longer required:\n",
      "  apg aptdaemon aspell aspell-en avahi-utils bluez cheese-common\n",
      "  cracklib-runtime crda cups-pk-helper dconf-cli dictionaries-common enchant\n",
      "  evolution-data-server evolution-data-server-online-accounts geoclue\n",
      "  geoclue-ubuntu-geoip gir1.2-ibus-1.0 gir1.2-notify-0.7\n",
      "  gir1.2-packagekitglib-1.0 gkbd-capplet gnome-bluetooth gnome-desktop3-data\n",
      "  gnome-menus gnome-power-manager gnome-screensaver gnome-session-bin\n",
      "  gnome-settings-daemon-schemas gnome-user-guide gnome-user-share\n",
      "  gsettings-ubuntu-schemas gstreamer1.0-clutter-3.0 gstreamer1.0-plugins-good\n",
      "  gstreamer1.0-x hunspell-en-us hwdata ibus ibus-gtk ibus-gtk3 im-config\n",
      "  indicator-applet indicator-application indicator-bluetooth\n",
      "  indicator-datetime indicator-keyboard indicator-messages indicator-power\n",
      "  indicator-session indicator-sound ippusbxd iputils-arping iw libaa1\n",
      "  libaccount-plugin-1.0-0 libaccount-plugin-generic-oauth\n",
      "  libaccount-plugin-google libaccounts-glib0 libaccounts-qt5-1\n",
      "  libappindicator3-1 libaspell15 libavc1394-0 libbluetooth3 libcaca0\n",
      "  libcgmanager0 libcheese-gtk25 libcheese8 libclutter-1.0-0\n",
      "  libclutter-1.0-common libclutter-gst-3.0-0 libclutter-gtk-1.0-0\n",
      "  libcogl-common libcogl-pango20 libcogl-path20 libcogl20 libcrack2\n",
      "  libdouble-conversion1v5 libdv4 libecal-1.2-19 libedata-cal-1.2-28\n",
      "  libenchant1c2a libfcitx-config4 libfcitx-gclient0 libfcitx-utils0\n",
      "  libgee-0.8-2 libgeoclue0 libgeocode-glib0 libgeonames0 libgnome-bluetooth13\n",
      "  libgnome-desktop-3-12 libgnome-menu-3-0 libgnomekbd-common libgnomekbd8\n",
      "  libgstreamer-plugins-good1.0-0 libgweather-3-6 libgweather-common\n",
      "  libhunspell-1.3-0 libhyphen0 libibus-1.0-5 libido3-0.1-0 libiec61883-0\n",
      "  libindicator3-7 libjavascriptcoregtk-4.0-18 liblightdm-gobject-1-0\n",
      "  libmbim-glib4 libmbim-proxy libmm-glib0 libnautilus-extension1a libndp0\n",
      "  libnl-3-200 libnl-genl-3-200 libnm-glib4 libnm-gtk-common libnm-gtk0\n",
      "  libnm-util2 libnm0 libnma-common libnma0 libpackagekit-glib2-16\n",
      "  libpanel-applet0 libpwquality-common libpwquality1 libqmi-glib5 libqmi-proxy\n",
      "  libqt5qml5 libqt5quick5 libqt5webkit5 libraw1394-11 libshout3\n",
      "  libsignon-extension1 libsignon-glib1 libsignon-plugins-common1\n",
      "  libsignon-qt5-1 libspeex1 libtag1v5 libtag1v5-vanilla libtimezonemap-data\n",
      "  libtimezonemap1 libunity-control-center1 libunity-settings-daemon1\n",
      "  liburl-dispatcher1 libv4l-0 libv4lconvert0 libwavpack1 libwebkit2gtk-4.0-37\n",
      "  libwebkit2gtk-4.0-37-gtk2 libwebp5 libyelp0 mobile-broadband-provider-info\n",
      "  modemmanager mousetweaks nautilus-data network-manager network-manager-gnome\n",
      "  network-manager-pptp pptp-linux python3-aptdaemon python3-aptdaemon.pkcompat\n",
      "  python3-bs4 python3-cairo python3-cups python3-cupshelpers python3-defer\n",
      "  python3-html5lib python3-lxml python3-xdg session-migration\n",
      "  signon-keyring-extension signon-plugin-oauth2 signon-plugin-password\n",
      "  signon-ui signon-ui-service signon-ui-x11 signond\n",
      "  system-config-printer-common system-config-printer-gnome\n",
      "  system-config-printer-udev ubuntu-system-service ubuntu-touch-sounds\n",
      "  unity-control-center unity-control-center-faces unity-control-center-signon\n",
      "  unity-settings-daemon usb-modeswitch usb-modeswitch-data wireless-regdb\n",
      "  wpasupplicant yelp yelp-xsl\n",
      "Use 'sudo apt autoremove' to remove them.\n",
      "0 upgraded, 0 newly installed, 0 to remove and 239 not upgraded.\n"
     ]
    }
   ],
   "source": [
    "# Update the drivers if you do. \n",
    "! sudo apt-get install cuda-drivers\n"
   ]
  },
  {
   "cell_type": "code",
   "execution_count": null,
   "metadata": {},
   "outputs": [],
   "source": [
    "!{sys.executable} -m pip install --upgrade --no-deps https://cntk.ai/PythonWheel/CPU-Only/cntk-2.3.1-cp35-cp35m-linux_x86_64.whl "
   ]
  },
  {
   "cell_type": "code",
   "execution_count": 5,
   "metadata": {},
   "outputs": [],
   "source": [
    "# Setting Up CNTK on Ubuntu: https://docs.microsoft.com/en-us/cognitive-toolkit/setup-cntk-on-windows \n",
    "import sys"
   ]
  },
  {
   "cell_type": "code",
   "execution_count": 3,
   "metadata": {},
   "outputs": [
    {
     "name": "stdout",
     "output_type": "stream",
     "text": [
      "Reading package lists... Done\n",
      "Building dependency tree       \n",
      "Reading state information... Done\n",
      "openmpi-bin is already the newest version (1.10.2-8ubuntu1).\n",
      "openmpi-bin set to manually installed.\n",
      "The following packages were automatically installed and are no longer required:\n",
      "  apg aptdaemon aspell aspell-en avahi-utils bluez cheese-common\n",
      "  cracklib-runtime crda cups-pk-helper dconf-cli dictionaries-common enchant\n",
      "  evolution-data-server evolution-data-server-online-accounts geoclue\n",
      "  geoclue-ubuntu-geoip gir1.2-ibus-1.0 gir1.2-notify-0.7\n",
      "  gir1.2-packagekitglib-1.0 gkbd-capplet gnome-bluetooth gnome-desktop3-data\n",
      "  gnome-menus gnome-power-manager gnome-screensaver gnome-session-bin\n",
      "  gnome-settings-daemon-schemas gnome-user-guide gnome-user-share\n",
      "  gsettings-ubuntu-schemas gstreamer1.0-clutter-3.0 gstreamer1.0-plugins-good\n",
      "  gstreamer1.0-x hunspell-en-us hwdata ibus ibus-gtk ibus-gtk3 im-config\n",
      "  indicator-applet indicator-application indicator-bluetooth\n",
      "  indicator-datetime indicator-keyboard indicator-messages indicator-power\n",
      "  indicator-session indicator-sound ippusbxd iputils-arping iw libaa1\n",
      "  libaccount-plugin-1.0-0 libaccount-plugin-generic-oauth\n",
      "  libaccount-plugin-google libaccounts-glib0 libaccounts-qt5-1\n",
      "  libappindicator3-1 libaspell15 libavc1394-0 libbluetooth3 libcaca0\n",
      "  libcgmanager0 libcheese-gtk25 libcheese8 libclutter-1.0-0\n",
      "  libclutter-1.0-common libclutter-gst-3.0-0 libclutter-gtk-1.0-0\n",
      "  libcogl-common libcogl-pango20 libcogl-path20 libcogl20 libcrack2\n",
      "  libdouble-conversion1v5 libdv4 libecal-1.2-19 libedata-cal-1.2-28\n",
      "  libenchant1c2a libfcitx-config4 libfcitx-gclient0 libfcitx-utils0\n",
      "  libgee-0.8-2 libgeoclue0 libgeocode-glib0 libgeonames0 libgnome-bluetooth13\n",
      "  libgnome-desktop-3-12 libgnome-menu-3-0 libgnomekbd-common libgnomekbd8\n",
      "  libgstreamer-plugins-good1.0-0 libgweather-3-6 libgweather-common\n",
      "  libhunspell-1.3-0 libhyphen0 libibus-1.0-5 libido3-0.1-0 libiec61883-0\n",
      "  libindicator3-7 libjavascriptcoregtk-4.0-18 liblightdm-gobject-1-0\n",
      "  libmbim-glib4 libmbim-proxy libmm-glib0 libnautilus-extension1a libndp0\n",
      "  libnl-3-200 libnl-genl-3-200 libnm-glib4 libnm-gtk-common libnm-gtk0\n",
      "  libnm-util2 libnm0 libnma-common libnma0 libpackagekit-glib2-16\n",
      "  libpanel-applet0 libpwquality-common libpwquality1 libqmi-glib5 libqmi-proxy\n",
      "  libqt5qml5 libqt5quick5 libqt5webkit5 libraw1394-11 libshout3\n",
      "  libsignon-extension1 libsignon-glib1 libsignon-plugins-common1\n",
      "  libsignon-qt5-1 libspeex1 libtag1v5 libtag1v5-vanilla libtimezonemap-data\n",
      "  libtimezonemap1 libunity-control-center1 libunity-settings-daemon1\n",
      "  liburl-dispatcher1 libv4l-0 libv4lconvert0 libwavpack1 libwebkit2gtk-4.0-37\n",
      "  libwebkit2gtk-4.0-37-gtk2 libwebp5 libyelp0 mobile-broadband-provider-info\n",
      "  modemmanager mousetweaks nautilus-data network-manager network-manager-gnome\n",
      "  network-manager-pptp pptp-linux python3-aptdaemon python3-aptdaemon.pkcompat\n",
      "  python3-bs4 python3-cairo python3-cups python3-cupshelpers python3-defer\n",
      "  python3-html5lib python3-lxml python3-xdg session-migration\n",
      "  signon-keyring-extension signon-plugin-oauth2 signon-plugin-password\n",
      "  signon-ui signon-ui-service signon-ui-x11 signond\n",
      "  system-config-printer-common system-config-printer-gnome\n",
      "  system-config-printer-udev ubuntu-system-service ubuntu-touch-sounds\n",
      "  unity-control-center unity-control-center-faces unity-control-center-signon\n",
      "  unity-settings-daemon usb-modeswitch usb-modeswitch-data wireless-regdb\n",
      "  wpasupplicant yelp yelp-xsl\n",
      "Use 'sudo apt autoremove' to remove them.\n",
      "0 upgraded, 0 newly installed, 0 to remove and 239 not upgraded.\n"
     ]
    }
   ],
   "source": [
    "! sudo apt-get install openmpi-bin\n"
   ]
  },
  {
   "cell_type": "code",
   "execution_count": 7,
   "metadata": {},
   "outputs": [
    {
     "name": "stdout",
     "output_type": "stream",
     "text": [
      "Collecting cntk-gpu\n",
      "  Downloading https://files.pythonhosted.org/packages/32/ca/138e81b39c0ff1009417867fad32f03f486b3f8c363796097e86fa0b7e57/cntk_gpu-2.5.1-cp35-cp35m-manylinux1_x86_64.whl (474.8MB)\n",
      "\u001b[K    100% |████████████████████████████████| 474.8MB 3.1kB/s eta 0:00:01    35% |███████████▍                    | 169.0MB 66.8MB/s eta 0:00:05    50% |████████████████▏               | 240.0MB 56.2MB/s eta 0:00:05    72% |███████████████████████▎        | 345.0MB 72.0MB/s eta 0:00:02\n",
      "\u001b[?25hRequirement already satisfied: numpy>=1.11 in /anaconda/envs/py35/lib/python3.5/site-packages (from cntk-gpu)\n",
      "Requirement already satisfied: scipy>=0.17 in /anaconda/envs/py35/lib/python3.5/site-packages (from cntk-gpu)\n",
      "Installing collected packages: cntk-gpu\n",
      "Successfully installed cntk-gpu-2.5.1\n",
      "\u001b[33mYou are using pip version 9.0.1, however version 10.0.1 is available.\n",
      "You should consider upgrading via the 'pip install --upgrade pip' command.\u001b[0m\n"
     ]
    }
   ],
   "source": [
    "!{sys.executable} -m pip install cntk-gpu"
   ]
  },
  {
   "cell_type": "code",
   "execution_count": null,
   "metadata": {},
   "outputs": [],
   "source": []
  }
 ],
 "metadata": {
  "kernelspec": {
   "display_name": "Python 3",
   "language": "python",
   "name": "python3"
  },
  "language_info": {
   "codemirror_mode": {
    "name": "ipython",
    "version": 3
   },
   "file_extension": ".py",
   "mimetype": "text/x-python",
   "name": "python",
   "nbconvert_exporter": "python",
   "pygments_lexer": "ipython3",
   "version": "3.5.4"
  }
 },
 "nbformat": 4,
 "nbformat_minor": 2
}
