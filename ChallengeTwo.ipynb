{
 "cells": [
  {
   "cell_type": "code",
   "execution_count": 114,
   "metadata": {},
   "outputs": [],
   "source": [
    "import os \n",
    "from PIL import Image, ImageOps\n",
    "import numpy as np\n",
    "import matplotlib.pyplot as plt\n",
    "import matplotlib.image as im\n",
    "\n",
    "from sklearn.model_selection import train_test_split\n",
    "\n",
    "\n",
    "%matplotlib inline \n",
    "\n",
    "gear_dir = \"gear_images/gear_images\"\n",
    "\n",
    "imageList = []; \n",
    "for folder in sorted(os.listdir(gear_dir)):\n",
    "    folderPath = os.path.join(gear_dir, folder)\n",
    "    for file in sorted(os.listdir(folderPath)):\n",
    "        totalPath = os.path.join(gear_dir, folder, file)\n",
    "        item = (file, totalPath, np.array(Image.open(totalPath)), folder)\n",
    "        imageList.append(item)"
   ]
  },
  {
   "cell_type": "code",
   "execution_count": 115,
   "metadata": {
    "scrolled": true
   },
   "outputs": [],
   "source": [
    "aCoupleImages = imageList\n",
    "#aCoupleImages = imageList\n",
    "#print(aCoupleImages)\n",
    "\n",
    "aCoupleImages[0][3]\n",
    "labels = []\n",
    "images = []\n",
    "for img in aCoupleImages:\n",
    "    images.append(img[2])\n",
    "    labels.append(img[3])\n",
    "\n",
    "def preprocess_images(image_array, target_size=(128, 128)):\n",
    "    shmimg = []\n",
    "    \n",
    "    for img in image_array:\n",
    "        # Get the original image\n",
    "        orig_img = Image.fromarray(img) # Get the np.array out of the imgData\n",
    "        \n",
    "        scaled_img = orig_img\n",
    "        scaled_img.thumbnail(target_size, Image.ANTIALIAS)\n",
    "        scaled_height, scaled_width = scaled_img.size\n",
    "        new_img = Image.new(\"RGB\", target_size, (255, 255, 255))\n",
    "        # Paste our new image with the whites removed \n",
    "        new_img.paste(scaled_img, (int((target_size[0] - scaled_img.size[0]) / 2), int((target_size[1] - scaled_img.size[1]) / 2)))\n",
    "        \n",
    "        img = new_img        \n",
    "        # img = ImageOps.equalize(Image.fromarray(img))\n",
    "        shmimg.append(np.array(img).ravel())\n",
    "    return shmimg\n",
    "\n",
    "features = np.array(preprocess_images(images))\n",
    "\n",
    "X_train, X_test, Y_train, Y_test = train_test_split(features, labels, test_size=0.10)\n",
    "        "
   ]
  },
  {
   "cell_type": "code",
   "execution_count": 116,
   "metadata": {},
   "outputs": [
    {
     "name": "stdout",
     "output_type": "stream",
     "text": [
      "LogisticRegression(C=100.0, class_weight=None, dual=False, fit_intercept=True,\n",
      "          intercept_scaling=1, max_iter=100, multi_class='multinomial',\n",
      "          n_jobs=1, penalty='l2', random_state=None, solver='lbfgs',\n",
      "          tol=0.0001, verbose=0, warm_start=False)\n"
     ]
    }
   ],
   "source": [
    "from sklearn.linear_model import LogisticRegression\n",
    "\n",
    "reg = 0.01 \n",
    "\n",
    "clf = LogisticRegression(C=1/reg, solver='lbfgs', multi_class='multinomial').fit(X_train, Y_train)\n",
    "\n",
    "print(clf)"
   ]
  },
  {
   "cell_type": "code",
   "execution_count": 117,
   "metadata": {},
   "outputs": [
    {
     "name": "stdout",
     "output_type": "stream",
     "text": [
      "Accuracy:  0.8169014084507042\n"
     ]
    }
   ],
   "source": [
    "from sklearn import metrics\n",
    "from sklearn.metrics import accuracy_score \n",
    "\n",
    "predictions = clf.predict(X_test)\n",
    "print('Accuracy: ', accuracy_score(Y_test, predictions))"
   ]
  },
  {
   "cell_type": "code",
   "execution_count": 118,
   "metadata": {},
   "outputs": [
    {
     "name": "stdout",
     "output_type": "stream",
     "text": [
      "(1200, 1200, 3)\n",
      "(128, 128, 3)\n",
      "The image is a helmets\n"
     ]
    }
   ],
   "source": [
    "testImageUrl=\"https://shop.epictv.com/sites/default/files/ae42ad29e70ba8ce6b67d3bdb6ab5c6e.jpeg\"\n",
    "\n",
    "import requests\n",
    "from io import BytesIO\n",
    "\n",
    "# Takes np array and returns np array resized \n",
    "def resizeImage(imageToBeResized, target_size=(128, 128)):\n",
    "    orig_img = Image.fromarray(imageToBeResized) # Get the np.array out of the imgData\n",
    "        \n",
    "    scaled_img = orig_img\n",
    "    scaled_img.thumbnail(target_size, Image.ANTIALIAS)\n",
    "    scaled_height, scaled_width = scaled_img.size\n",
    "    new_img = Image.new(\"RGB\", target_size, (255, 255, 255))\n",
    "    # Paste our new image with the whites removed \n",
    "    new_img.paste(scaled_img, (int((target_size[0] - scaled_img.size[0]) / 2), int((target_size[1] - scaled_img.size[1]) / 2)))\n",
    "    \n",
    "    return np.array(new_img)\n",
    "\n",
    "response = requests.get(testImageUrl)\n",
    "helmetTestImg = Image.open(BytesIO(response.content))\n",
    "helmetTestImgNP = np.array(helmetTestImg)\n",
    "print(helmetTestImgNP.shape)\n",
    "\n",
    "resized = resizeImage(helmetTestImgNP)\n",
    "\n",
    "print(resized.shape)\n",
    "\n",
    "\n",
    "resized?\n",
    "pred = clf.predict(resized.ravel().reshape(1, -1))\n",
    "print('The image is a', pred[0])"
   ]
  },
  {
   "cell_type": "code",
   "execution_count": null,
   "metadata": {},
   "outputs": [],
   "source": []
  }
 ],
 "metadata": {
  "kernelspec": {
   "display_name": "Python 3",
   "language": "python",
   "name": "python3"
  },
  "language_info": {
   "codemirror_mode": {
    "name": "ipython",
    "version": 3
   },
   "file_extension": ".py",
   "mimetype": "text/x-python",
   "name": "python",
   "nbconvert_exporter": "python",
   "pygments_lexer": "ipython3",
   "version": "3.5.4"
  }
 },
 "nbformat": 4,
 "nbformat_minor": 2
}
